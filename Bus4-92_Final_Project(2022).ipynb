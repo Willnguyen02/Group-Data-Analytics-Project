{
  "nbformat": 4,
  "nbformat_minor": 0,
  "metadata": {
    "colab": {
      "provenance": [],
      "include_colab_link": true
    },
    "kernelspec": {
      "name": "python3",
      "display_name": "Python 3"
    },
    "language_info": {
      "name": "python"
    }
  },
  "cells": [
    {
      "cell_type": "markdown",
      "metadata": {
        "id": "view-in-github",
        "colab_type": "text"
      },
      "source": [
        "<a href=\"https://colab.research.google.com/github/Willnguyen02/Group-Data-Analytics-Project/blob/main/Bus4-92_Final_Project(2022).ipynb\" target=\"_parent\"><img src=\"https://colab.research.google.com/assets/colab-badge.svg\" alt=\"Open In Colab\"/></a>"
      ]
    },
    {
      "cell_type": "markdown",
      "source": [
        "**Bus4-92 Introduction to Business Programming Final Project**\n",
        "\n",
        "\n",
        "Objective:\n",
        "- Utilize pandas to read the \"ProductSalesData.xlsx\" file\n",
        "- Make a menu with six options for the user to choose from\n",
        "- Two of the six will query the dataset while the other four will return the user to the menu\n"
      ],
      "metadata": {
        "id": "4e6iW9D4dpiw"
      }
    },
    {
      "cell_type": "code",
      "execution_count": 1,
      "metadata": {
        "id": "EuSINX7Sa1bU"
      },
      "outputs": [],
      "source": [
        "import pandas as pd\n",
        "xl=pd.ExcelFile(\"/content/ProductSalesData.xlsx\")\n",
        "SalesData = xl.parse(\"Orders\")"
      ]
    },
    {
      "cell_type": "code",
      "source": [
        "menuList = [\"Country\",\"City\",\"State,\",\"Customer Name\",\"Sub-Category\",\"Category\"]\n",
        "print(\"Enter '0' for \" + menuList[0])\n",
        "print(\"Enter '1' for \" + menuList[1])\n",
        "print(\"Enter '2' for \" + menuList[2])\n",
        "print(\"Enter '3' for \" + menuList[3])\n",
        "print(\"Enter '4' for \" + menuList[4])\n",
        "print(\"Enter '5' for \" + menuList[5])\n",
        "\n",
        "x = 0\n",
        "\n",
        "while x == 0:\n",
        "  userInput = input(\"Pick an option.\")\n",
        "  if userInput == \"0\":\n",
        "    x = x + 0\n",
        "  elif userInput == \"1\":\n",
        "    x = x + 0\n",
        "  elif userInput == \"2\":\n",
        "    x = x + 0\n",
        "  elif userInput == \"3\":\n",
        "    x = x + 1\n",
        "    Cname = str(input(\"What customer are you looking for?\"))\n",
        "    JustCustomers = SalesData.loc[SalesData[\"Customer Name\"] == Cname]\n",
        "    if Cname == any(SalesData[\"Customer Name\"].unique()):\n",
        "      display(JustCustomers)\n",
        "    else:\n",
        "      print(\"Error\")\n",
        "\n",
        "  elif userInput == \"4\":\n",
        "    x = x + 1\n",
        "    display(SalesData[\"Category\"].unique())\n",
        "    UserSB = str(input(\"Please pick a Category\"))\n",
        "    JustUserSB = SalesData.loc[SalesData[\"Category\"] == UserSB]\n",
        "    TotalUserSB = JustUserSB[[\"Sub-Category\", \"Profit\", \"Sales\"]].groupby(by = \"Sub-Category\").sum().sort_values(by = \"Profit\")\n",
        "    display(TotalUserSB)\n",
        "\n",
        "  elif userInput == \"5\":\n",
        "    x = x + 0\n",
        "  else:\n",
        "    print(\"Error\")\n",
        "    x = x + 0"
      ],
      "metadata": {
        "id": "0E8VVQmM54GA"
      },
      "execution_count": null,
      "outputs": []
    },
    {
      "cell_type": "code",
      "source": [],
      "metadata": {
        "id": "hi1gpSgLt01i"
      },
      "execution_count": null,
      "outputs": []
    },
    {
      "cell_type": "markdown",
      "source": [
        "Add a search feature\n",
        "Ex: input = customer name, output = all customer orders"
      ],
      "metadata": {
        "id": "7WQCCsnhr7g3"
      }
    }
  ]
}