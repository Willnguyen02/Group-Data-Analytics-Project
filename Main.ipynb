{
 "cells": [
  {
   "cell_type": "markdown",
   "metadata": {},
   "source": [
    "**Python pandas querying project on Sales Data**\n",
    "- This dataset consists of both consumer, product, and sales data information\n",
    "- This project provides multiple ways of querying and navigating the dataset"
   ]
  },
  {
   "cell_type": "markdown",
   "metadata": {},
   "source": [
    "Import pandas and read \"ProductSalesData.xlsx\" dataset"
   ]
  },
  {
   "cell_type": "code",
   "execution_count": 1,
   "metadata": {},
   "outputs": [],
   "source": [
    "import pandas as pd\n",
    "SalesData = pd.read_excel('ProductSalesData.xlsx')"
   ]
  },
  {
   "cell_type": "markdown",
   "metadata": {},
   "source": [
    "Established the menu function to display possible querying options"
   ]
  },
  {
   "cell_type": "code",
   "execution_count": 37,
   "metadata": {},
   "outputs": [],
   "source": [
    "# Menu Function - Done\n",
    "\n",
    "def menu():\n",
    "  menuList = [\"Order ID\",\"Customer Name\",\"Product Revenue\",\"City\",\"State\",\"Sub-Category\",\"Category\"]\n",
    "  print(\"Enter '0' for \" + menuList[0])\n",
    "  print(\"Enter '1' for \" + menuList[1])\n",
    "  print(\"Enter '2' for \" + menuList[2])\n",
    "  print(\"Enter '3' for \" + menuList[3])\n",
    "  print(\"Enter '4' for \" + menuList[4])\n",
    "  print(\"Enter '5' for \" + menuList[5])\n",
    "  print(\"Enter '6' for \" + menuList[6])\n",
    "  print(\"Enter '7' to exit\")\n",
    "  global userInput\n",
    "  userInput = input( 'Please select and item')\n"
   ]
  },
  {
   "cell_type": "markdown",
   "metadata": {},
   "source": [
    "Created a general \"error response\" function for typos and miss inputs. This function essentially gives the user the ability to either return to the menu function or exit the query."
   ]
  },
  {
   "cell_type": "code",
   "execution_count": 3,
   "metadata": {},
   "outputs": [],
   "source": [
    "# Error Response Function - Done\n",
    "\n",
    "def error_response():\n",
    "  global no_value_response\n",
    "  no_value_response = input(\"No values found! Would you like to try again? Enter '1' to return to menu, enter '2' to exit\")\n",
    "\n",
    "  if no_value_response == '1':\n",
    "    run_menu()\n",
    "  elif no_value_response == '2':\n",
    "    print('Thanks for testing!')\n",
    "  else:\n",
    "    print('Invalid response!')\n",
    "    error_response()"
   ]
  },
  {
   "cell_type": "markdown",
   "metadata": {},
   "source": [
    "Query Method #1: Order ID - This function queries the dataset and looks for a specific, user-entered order ID. The user is prompted to enter their order ID number, which would then be used to filter through the \"Order ID\" column for any fields that matches the value entered by the user. If no fields match the user-entered order ID, the error response function would run."
   ]
  },
  {
   "cell_type": "code",
   "execution_count": null,
   "metadata": {},
   "outputs": [],
   "source": [
    "# Order ID Function - Done\n",
    "\n",
    "def orderID_function():\n",
    "  SD_orderid = SalesData['Order ID']\n",
    "  display(SD_orderid.head(20))\n",
    "  \n",
    "  SDinput = input('Please enter your Order ID')\n",
    "\n",
    "  if SDinput in SD_orderid.values:\n",
    "    order_info = SalesData[SalesData['Order ID'] == SDinput]\n",
    "    display(order_info)\n",
    "    run_menu() \n",
    "  else:\n",
    "    error_response()\n"
   ]
  },
  {
   "cell_type": "markdown",
   "metadata": {},
   "source": [
    "Query #2: Customer Name - This function queries the dataset based on the customer's name and retuens all orders placed by a specific customer"
   ]
  },
  {
   "cell_type": "code",
   "execution_count": 5,
   "metadata": {},
   "outputs": [],
   "source": [
    "# Customer Name Function - Done \n",
    "\n",
    "def cname_function():\n",
    "  customers = SalesData['Customer Name'].sort_values(ascending = True).unique()\n",
    "  display(customers)\n",
    "  cname = input(\"What is the customer's full name?\")\n",
    "\n",
    "  if cname in SalesData['Customer Name'].values:\n",
    "    cinfo = SalesData[SalesData['Customer Name'] == cname]\n",
    "    display(cinfo)\n",
    "    run_menu()\n",
    "  else:\n",
    "    error_response()"
   ]
  },
  {
   "cell_type": "markdown",
   "metadata": {},
   "source": [
    "Query #3: Product Revenue - The product revenue function calculates the final revenue of a specific product. The product is searched based on a user-entered product ID which searches for all instances of the user-entered product ID in the dataset. Because there are fluctuating sales, quantity, and discounts per each order, revenue is first calculated for each inividual order: Sales * Quantity * (1 - Discount Rate). The product of each order would then be added together to find the total revenue."
   ]
  },
  {
   "cell_type": "code",
   "execution_count": null,
   "metadata": {},
   "outputs": [],
   "source": [
    "# Product Revenue Function - Done\n",
    "\n",
    "def product_revenue_function():\n",
    "  prod_rev_columns = SalesData[['Product ID', 'Product Name', 'Sales', 'Quantity', 'Discount']]\n",
    "  products = SalesData['Product ID'].sort_values(ascending = True).unique()\n",
    "  display(products[0:50])\n",
    "  \n",
    "  prod_ID = input('What is your product ID?')\n",
    "  \n",
    "  if prod_ID in prod_rev_columns['Product ID'].values:\n",
    "    searched = prod_rev_columns[prod_rev_columns['Product ID'] == prod_ID]\n",
    "    prod_name = searched['Product Name'].unique()\n",
    "    \n",
    "    revenue = searched['Sales'] * searched['Quantity'] * (1 - searched['Discount'])\n",
    "    print(prod_name[0],'has accumulated $', revenue.sum().round(2), 'in revenue!')\n",
    "    run_menu()\n",
    "  else:\n",
    "    error_response()\n",
    "    \n",
    "product_revenue_function()"
   ]
  },
  {
   "cell_type": "markdown",
   "metadata": {},
   "source": [
    "Query #3: City - This query searches the dataset based on the user's city and returns all instances of the user's input"
   ]
  },
  {
   "cell_type": "code",
   "execution_count": null,
   "metadata": {},
   "outputs": [],
   "source": [
    "# City Function - Done\n",
    "\n",
    "def city_function():\n",
    "    cities = SalesData['City'].sort_values(ascending = True).unique()\n",
    "    display(cities)\n",
    "    \n",
    "    user_city = input('Please select a city')\n",
    "    \n",
    "    if user_city in SalesData['City'].values:\n",
    "        selected_cities = SalesData[SalesData['City'] == user_city]\n",
    "        display(selected_cities)\n",
    "        run_menu()\n",
    "    else:\n",
    "        error_response()\n",
    "    "
   ]
  },
  {
   "cell_type": "markdown",
   "metadata": {},
   "source": [
    "Query #4: State - This query searches the dataset based on the user's state and returns all instances of the user's input"
   ]
  },
  {
   "cell_type": "code",
   "execution_count": null,
   "metadata": {},
   "outputs": [],
   "source": [
    "# State Function - Done\n",
    "\n",
    "def state_function():\n",
    "    states = SalesData['State'].sort_values(ascending = True).unique()\n",
    "    display(states)\n",
    "    \n",
    "    user_state = input('Please select your state')\n",
    "    \n",
    "    if user_state in SalesData['State'].values:\n",
    "        selected_state = SalesData[SalesData['State'] == user_state]\n",
    "        display(selected_state)\n",
    "        run_menu()\n",
    "    else:\n",
    "        error_response()\n",
    "    \n",
    "    \n",
    "    \n",
    "state_function()"
   ]
  },
  {
   "cell_type": "code",
   "execution_count": null,
   "metadata": {},
   "outputs": [],
   "source": [
    "# Testing - Date Category\n",
    "\n",
    "def date_filter(user_date):\n",
    "    SalesData['Order Date'] = pd.to_datetime(SalesData['Order Date'])\n",
    "    user_date = pd.to_datetime(user_date)\n",
    "    \n",
    "    filtered_date = SalesData[SalesData['Order Date'].dt.date == user_date.date()]\n",
    "    display(filtered_date)\n",
    "\n",
    "\n",
    "def date_function():\n",
    "    user_date = input('When did you order your product? Please enter the full date.')\n",
    "    date_filter(user_date)\n",
    "    \n",
    "date_function()\n"
   ]
  },
  {
   "cell_type": "code",
   "execution_count": null,
   "metadata": {},
   "outputs": [],
   "source": [
    "\n",
    "\n",
    "def date_function():\n",
    "    user_date = input('When did you order your product? Please enter the full date.')\n",
    "    \n",
    "    SalesData['Order Date'] = pd.to_datetime(SalesData['Order Date'])\n",
    "    user_date = pd.to_datetime(user_date)\n",
    "    \n",
    "    if user_date.date() in SalesData['Order Date'].dt.date:\n",
    "        filtered_date = SalesData[SalesData['Order Date'].dt.date == user_date.date()]\n",
    "        display(filtered_date)\n",
    "    else:\n",
    "        print('error')\n",
    "    \n",
    "date_function()"
   ]
  },
  {
   "cell_type": "markdown",
   "metadata": {},
   "source": [
    "Query #5: Sub-Category - "
   ]
  },
  {
   "cell_type": "code",
   "execution_count": 6,
   "metadata": {},
   "outputs": [],
   "source": [
    "#Sub-Category - Done \n",
    "\n",
    "def sub_cat_function():\n",
    "    display(SalesData[\"Category\"].unique())\n",
    "    UserSB = str(input(\"Please pick a Category\"))\n",
    "    \n",
    "    if UserSB in SalesData['Category'].values:\n",
    "        JustUserSB = SalesData.loc[SalesData[\"Category\"] == UserSB]\n",
    "        TotalUserSB = JustUserSB[[\"Sub-Category\", \"Profit\", \"Sales\"]].groupby(by = \"Sub-Category\").sum().sort_values(by = \"Profit\")\n",
    "        display(TotalUserSB)\n",
    "        run_menu()\n",
    "    else:\n",
    "       error_response() "
   ]
  },
  {
   "cell_type": "markdown",
   "metadata": {},
   "source": [
    "Query #6: Category - "
   ]
  },
  {
   "cell_type": "code",
   "execution_count": 7,
   "metadata": {},
   "outputs": [],
   "source": [
    "#Category - Done\n",
    "\n",
    "def category_function():\n",
    "    display(SalesData[\"Category\"].unique())\n",
    "    userInput2 = input(\"Please pick a category.\").lower()\n",
    "    \n",
    "    if userInput2 == \"technology\":\n",
    "      JustTech = SalesData.loc[SalesData[\"Category\"] == \"Technology\"]\n",
    "      display(JustTech)\n",
    "      run_menu()\n",
    "      \n",
    "    elif userInput2 == \"furniture\":\n",
    "      JustFurniture = SalesData.loc[SalesData[\"Category\"] == \"Furniture\"]\n",
    "      display(JustFurniture)\n",
    "      run_menu()\n",
    "      \n",
    "    elif userInput2 == \"office supplies\":\n",
    "      JustOS = SalesData.loc[SalesData[\"Category\"] == \"Office Supplies\"]\n",
    "      display(JustOS)\n",
    "      run_menu()\n",
    "      \n",
    "    else:\n",
    "      error_response()\n"
   ]
  },
  {
   "cell_type": "markdown",
   "metadata": {},
   "source": []
  },
  {
   "cell_type": "code",
   "execution_count": null,
   "metadata": {},
   "outputs": [],
   "source": [
    "# Menu Function - Done\n",
    "\n",
    "def run_menu():\n",
    "  menu()\n",
    "  if userInput == '0': #Order ID\n",
    "    orderID_function()\n",
    "\n",
    "  elif userInput == '1': #Customer Name\n",
    "    cname_function()\n",
    "\n",
    "  elif userInput == '2': #Product Revenue\n",
    "    product_revenue_function()\n",
    "\n",
    "  elif userInput == '3': #City\n",
    "    city_function()\n",
    "\n",
    "  elif userInput == '4': #State\n",
    "    state_function()\n",
    "\n",
    "  elif userInput == '5': #Sub-Category\n",
    "    sub_cat_function()\n",
    "\n",
    "  elif userInput == '6': #Category\n",
    "    category_function()\n",
    "\n",
    "  elif userInput == '7':\n",
    "    print('Thanks for Testing!')\n",
    "\n",
    "  else:\n",
    "    print('Invalid Input')\n",
    "    run_menu()\n",
    "\n",
    "\n",
    "run_menu()"
   ]
  }
 ],
 "metadata": {
  "kernelspec": {
   "display_name": "Python 3",
   "language": "python",
   "name": "python3"
  },
  "language_info": {
   "codemirror_mode": {
    "name": "ipython",
    "version": 3
   },
   "file_extension": ".py",
   "mimetype": "text/x-python",
   "name": "python",
   "nbconvert_exporter": "python",
   "pygments_lexer": "ipython3",
   "version": "3.11.9"
  }
 },
 "nbformat": 4,
 "nbformat_minor": 2
}
