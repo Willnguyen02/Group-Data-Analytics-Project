{
 "cells": [
  {
   "cell_type": "code",
   "execution_count": 1,
   "metadata": {},
   "outputs": [],
   "source": [
    "import pandas as pd\n",
    "SalesData = pd.read_excel('TableauSalesData.xlsx')"
   ]
  },
  {
   "cell_type": "code",
   "execution_count": null,
   "metadata": {},
   "outputs": [],
   "source": [
    "# Menu Function - Done\n",
    "\n",
    "def menu():\n",
    "  menuList = [\"Order ID\",\"Customer Name\",\"Produce Revenue\",\"Sales\",\"Profit\",\"Sub-Category\",\"Category\"]\n",
    "  print(\"Enter '0' for \" + menuList[0])\n",
    "  print(\"Enter '1' for \" + menuList[1])\n",
    "  print(\"Enter '2' for \" + menuList[2])\n",
    "  print(\"Enter '3' for \" + menuList[3])\n",
    "  print(\"Enter '4' for \" + menuList[4])\n",
    "  print(\"Enter '5' for \" + menuList[5])\n",
    "  print(\"Enter '6' for \" + menuList[6])\n",
    "  print(\"Enter '7' to exit\")\n",
    "  global userInput\n",
    "  userInput = input( 'Please select and item')\n"
   ]
  },
  {
   "cell_type": "code",
   "execution_count": null,
   "metadata": {},
   "outputs": [],
   "source": [
    "# Error Response Function - Done\n",
    "\n",
    "def error_response():\n",
    "  global no_value_response\n",
    "  no_value_response = input(\"No values found! Would you like to try again? Enter '1' to return to menu, enter '2' to exit\")\n",
    "\n",
    "  if no_value_response == '1':\n",
    "    run_menu()\n",
    "  elif no_value_response == '2':\n",
    "    print('Thanks for testing!')\n",
    "  else:\n",
    "    print('Invalid response!')\n",
    "    error_response()"
   ]
  },
  {
   "cell_type": "code",
   "execution_count": null,
   "metadata": {},
   "outputs": [],
   "source": [
    "# Order ID Function - Done\n",
    "def orderID_function():\n",
    "  SD_orderid = SalesData['Order ID']\n",
    "  display(SD_orderid.head(20))\n",
    "  SDinput = input(' Please enter your Order ID')\n",
    "\n",
    "  if SDinput in SD_orderid.values:\n",
    "    order_info = SalesData[SalesData['Order ID'] == SDinput]\n",
    "    display(order_info)\n",
    "    run_menu() #implement?\n",
    "  else:\n",
    "    error_response()"
   ]
  },
  {
   "cell_type": "code",
   "execution_count": null,
   "metadata": {},
   "outputs": [],
   "source": [
    "# Customer Name Function - Done \n",
    "def cname_function():\n",
    "  customers = SalesData['Customer Name'].sort_values(ascending = True).unique()\n",
    "  display(customers)\n",
    "  cname = input(\"What is the customer's full name?\")\n",
    "\n",
    "  if cname in SalesData['Customer Name'].values:\n",
    "    cinfo = SalesData[SalesData['Customer Name'] == cname]\n",
    "    display(cinfo)\n",
    "    run_menu()\n",
    "  else:\n",
    "    error_response()"
   ]
  },
  {
   "cell_type": "code",
   "execution_count": null,
   "metadata": {},
   "outputs": [],
   "source": []
  },
  {
   "cell_type": "code",
   "execution_count": null,
   "metadata": {},
   "outputs": [],
   "source": []
  },
  {
   "cell_type": "code",
   "execution_count": 30,
   "metadata": {},
   "outputs": [
    {
     "data": {
      "text/plain": [
       "array(['\"While you Were Out\" Message Book, One Form per Page',\n",
       "       '#10 Gummed Flap White Envelopes, 100/Box',\n",
       "       '#10 Self-Seal White Envelopes', ..., 'iOttie XL Car Mount',\n",
       "       'invisibleSHIELD by ZAGG Smudge-Free Screen Protector',\n",
       "       'netTALK DUO VoIP Telephone Service'], dtype=object)"
      ]
     },
     "metadata": {},
     "output_type": "display_data"
    },
    {
     "name": "stdout",
     "output_type": "stream",
     "text": [
      "Thanks for testing!\n"
     ]
    }
   ],
   "source": [
    "# Product Revenue Function - Implement a product search function\n",
    "\n",
    "def product_revenue_function():\n",
    "  prod_rev_columns = SalesData[['Product Name', 'Sales', 'Quantity', 'Discount']]\n",
    "  products = prod_rev_columns['Product Name'].sort_values().unique()\n",
    "  display(products)\n",
    "  \n",
    "  prod_name = input('What is your product name?')\n",
    "  \n",
    "  if prod_name in prod_rev_columns['Product Name'].values:\n",
    "    searched = prod_rev_columns[prod_rev_columns['Product Name'] == prod_name]\n",
    "    \n",
    "    revenue = searched['Sales'] * searched['Quantity'] * (1 - searched['Discount'])\n",
    "    print(prod_name, 'has accumulated $', revenue.sum().round(2), 'in revenue!')\n",
    "    run_menu()\n",
    "  else:\n",
    "    error_response()\n",
    "  \n",
    "\n",
    "    \n",
    "product_revenue_function()"
   ]
  },
  {
   "cell_type": "code",
   "execution_count": 21,
   "metadata": {},
   "outputs": [],
   "source": [
    "#Sub-Category - Done (Work on case sensitivity)\n",
    "\n",
    "def sub_cat_function():\n",
    "    display(SalesData[\"Category\"].unique())\n",
    "    UserSB = str(input(\"Please pick a Category\"))\n",
    "    \n",
    "    if UserSB in SalesData['Category'].values:\n",
    "        JustUserSB = SalesData.loc[SalesData[\"Category\"] == UserSB]\n",
    "        TotalUserSB = JustUserSB[[\"Sub-Category\", \"Profit\", \"Sales\"]].groupby(by = \"Sub-Category\").sum().sort_values(by = \"Profit\")\n",
    "        display(TotalUserSB)\n",
    "        run_menu()\n",
    "    else:\n",
    "       error_response() "
   ]
  },
  {
   "cell_type": "code",
   "execution_count": 16,
   "metadata": {},
   "outputs": [],
   "source": [
    "#Category - Done\n",
    "\n",
    "def category_function():\n",
    "    display(SalesData[\"Category\"].unique())\n",
    "    userInput2 = input(\"Please pick a category.\").lower()\n",
    "    \n",
    "    if userInput2 == \"technology\":\n",
    "      JustTech = SalesData.loc[SalesData[\"Category\"] == \"Technology\"]\n",
    "      display(JustTech)\n",
    "      run_menu()\n",
    "      \n",
    "    elif userInput2 == \"furniture\":\n",
    "      JustFurniture = SalesData.loc[SalesData[\"Category\"] == \"Furniture\"]\n",
    "      display(JustFurniture)\n",
    "      run_menu()\n",
    "      \n",
    "    elif userInput2 == \"office supplies\":\n",
    "      JustOS = SalesData.loc[SalesData[\"Category\"] == \"Office Supplies\"]\n",
    "      display(JustOS)\n",
    "      run_menu()\n",
    "      \n",
    "    else:\n",
    "      error_response()\n"
   ]
  },
  {
   "cell_type": "code",
   "execution_count": null,
   "metadata": {},
   "outputs": [],
   "source": [
    "# Menu Function - Done\n",
    "\n",
    "def run_menu():\n",
    "  menu()\n",
    "  if userInput == '0': #Order ID\n",
    "    orderID_function()\n",
    "\n",
    "  elif userInput == '1': #Customer Name\n",
    "    cname_function()\n",
    "\n",
    "  elif userInput == '2': #Product Revenue\n",
    "    product_revenue_function()\n",
    "\n",
    "  elif userInput == '3': #Sales\n",
    "    print('3')\n",
    "\n",
    "  elif userInput == '4': #Profit\n",
    "    print('4')\n",
    "\n",
    "  elif userInput == '5': #Sub-Category\n",
    "    sub_cat_function()\n",
    "\n",
    "  elif userInput == '6': #Category\n",
    "    category_function()\n",
    "\n",
    "  elif userInput == '7':\n",
    "    print('Thanks for Testing!')\n",
    "\n",
    "  else:\n",
    "    print('Invalid Input')\n",
    "    run_menu()\n",
    "\n",
    "\n",
    "run_menu()"
   ]
  }
 ],
 "metadata": {
  "kernelspec": {
   "display_name": "Python 3",
   "language": "python",
   "name": "python3"
  },
  "language_info": {
   "codemirror_mode": {
    "name": "ipython",
    "version": 3
   },
   "file_extension": ".py",
   "mimetype": "text/x-python",
   "name": "python",
   "nbconvert_exporter": "python",
   "pygments_lexer": "ipython3",
   "version": "3.11.9"
  }
 },
 "nbformat": 4,
 "nbformat_minor": 2
}
